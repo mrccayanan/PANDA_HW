{
 "cells": [
  {
   "cell_type": "markdown",
   "metadata": {},
   "source": [
    "### Heroes Of Pymoli Data Analysis\n",
    "* Of the 1163 active players, the vast majority are male (84%). There also exists, a smaller, but notable proportion of female players (14%).\n",
    "\n",
    "* Our peak age demographic falls between 20-24 (44.8%) with secondary groups falling between 15-19 (18.60%) and 25-29 (13.4%).  \n",
    "-----"
   ]
  },
  {
   "cell_type": "markdown",
   "metadata": {},
   "source": [
    "### Note\n",
    "* Instructions have been included for each segment. You do not have to follow them exactly, but they are included to help you think through the steps."
   ]
  },
  {
   "cell_type": "code",
   "execution_count": 7,
   "metadata": {},
   "outputs": [],
   "source": [
    "# Dependencies and Setup\n",
    "import pandas as pd\n",
    "import numpy as np\n",
    "\n",
    "# File to Load (Remember to Change These)\n",
    "file_to_load = \"purchase_data.csv\"\n",
    "\n",
    "# Read Purchasing File and store into Pandas data frame\n",
    "purchase_data = pd.read_csv(file_to_load)"
   ]
  },
  {
   "cell_type": "markdown",
   "metadata": {},
   "source": [
    "## Player Count"
   ]
  },
  {
   "cell_type": "markdown",
   "metadata": {},
   "source": [
    "* Display the total number of players\n"
   ]
  },
  {
   "cell_type": "code",
   "execution_count": 8,
   "metadata": {},
   "outputs": [
    {
     "name": "stdout",
     "output_type": "stream",
     "text": [
      "     Purchase ID               SN   Age                 Gender  Item ID  \\\n",
      "0            0.0          Lisim78  20.0                   Male    108.0   \n",
      "1            1.0      Lisovynya38  40.0                   Male    143.0   \n",
      "2            2.0       Ithergue48  24.0                   Male     92.0   \n",
      "3            3.0    Chamassasya86  24.0                   Male    100.0   \n",
      "4            4.0        Iskosia90  23.0                   Male    131.0   \n",
      "5            5.0          Yalae81  22.0                   Male     81.0   \n",
      "6            6.0        Itheria73  36.0                   Male    169.0   \n",
      "7            7.0      Iskjaskst81  20.0                   Male    162.0   \n",
      "8            8.0        Undjask33  22.0                   Male     21.0   \n",
      "9            9.0      Chanosian48  35.0  Other / Non-Disclosed    136.0   \n",
      "10          10.0        Inguron55  23.0                   Male     95.0   \n",
      "11          11.0     Haisrisuir60  23.0                   Male    162.0   \n",
      "12          12.0     Saelaephos52  21.0                   Male    116.0   \n",
      "13          13.0      Assjaskan73  22.0                   Male      4.0   \n",
      "14          14.0      Saesrideu94  35.0                   Male    165.0   \n",
      "15          15.0        Lisassa64  21.0                 Female     98.0   \n",
      "16          16.0        Lisirra25  20.0                   Male     40.0   \n",
      "17          17.0        Zontibe81  21.0                   Male    161.0   \n",
      "18          18.0        Reunasu60  22.0                 Female     82.0   \n",
      "19          19.0        Chamalo71  30.0                   Male     89.0   \n",
      "20          20.0     Iathenudil29  20.0                   Male     57.0   \n",
      "21          21.0    Phiarithdeu40  20.0                   Male    168.0   \n",
      "22          22.0     Siarithria38  38.0  Other / Non-Disclosed     24.0   \n",
      "23          23.0         Eyrian71  40.0                   Male    151.0   \n",
      "24          24.0          Siala43  30.0                   Male    141.0   \n",
      "25          25.0        Lisirra87  29.0                   Male    178.0   \n",
      "26          26.0       Lirtossa84  11.0                   Male     71.0   \n",
      "27          27.0          Eusri44   7.0                   Male     96.0   \n",
      "28          28.0           Aela59  21.0                   Male    119.0   \n",
      "29          29.0          Tyida79  24.0                   Male     37.0   \n",
      "..           ...              ...   ...                    ...      ...   \n",
      "752        752.0    Mindjasksya61  17.0                   Male    112.0   \n",
      "753        753.0   Frichirranya75  36.0                   Male    178.0   \n",
      "754        754.0  Pheosurllorin41  23.0                 Female     79.0   \n",
      "755        755.0         Raesty92  12.0                   Male     76.0   \n",
      "756        756.0          Ilast79  20.0                   Male     73.0   \n",
      "757        757.0        Eratiel90  18.0                   Male     57.0   \n",
      "758        758.0           Iral74  21.0                   Male    182.0   \n",
      "759        759.0      Tyaelorap29  25.0                   Male     72.0   \n",
      "760        760.0       Aithelis62  21.0                   Male     44.0   \n",
      "761        761.0          Assim27  45.0                   Male     17.0   \n",
      "762        762.0           Asur53  26.0                   Male    110.0   \n",
      "763        763.0     Lassilsala30  21.0                   Male     85.0   \n",
      "764        764.0     Saedaiphos46  18.0                   Male    113.0   \n",
      "765        765.0          Irith83  18.0                   Male    130.0   \n",
      "766        766.0     Aelastirin39  23.0                   Male     58.0   \n",
      "767        767.0          Ilmol66   8.0                 Female     92.0   \n",
      "768        768.0     Assassasta79  38.0                   Male     92.0   \n",
      "769        769.0        Ilosian36  15.0                   Male    145.0   \n",
      "770        770.0       Lirtosia63  34.0                   Male     12.0   \n",
      "771        771.0     Iskossasda43  16.0                   Male     25.0   \n",
      "772        772.0           Asur53  26.0                   Male    136.0   \n",
      "773        773.0           Hala31  21.0                   Male     19.0   \n",
      "774        774.0       Jiskjask80  11.0                   Male    101.0   \n",
      "775        775.0       Aethedru70  21.0                 Female     60.0   \n",
      "776        776.0           Iral74  21.0                   Male    164.0   \n",
      "777        777.0       Yathecal72  20.0                   Male     67.0   \n",
      "778        778.0          Sisur91   7.0                   Male    101.0   \n",
      "779        779.0        Ennrian78  24.0                   Male     50.0   \n",
      "780          NaN              NaN   NaN                    NaN      NaN   \n",
      "781          NaN              NaN   NaN                    NaN      NaN   \n",
      "\n",
      "                                        Item Name  Price  \n",
      "0       Extraction, Quickblade Of Trembling Hands   3.53  \n",
      "1                               Frenzied Scimitar   1.56  \n",
      "2                                    Final Critic   4.88  \n",
      "3                                     Blindscythe   3.27  \n",
      "4                                            Fury   1.44  \n",
      "5                                       Dreamkiss   3.61  \n",
      "6          Interrogator, Blood Blade of the Queen   2.18  \n",
      "7                                   Abyssal Shard   2.67  \n",
      "8                                       Souleater   1.10  \n",
      "9                    Ghastly Adamantite Protector   3.58  \n",
      "10                          Singed Onyx Warscythe   4.74  \n",
      "11                                  Abyssal Shard   2.67  \n",
      "12                        Renewed Skeletal Katana   4.18  \n",
      "13                             Bloodlord's Fetish   1.70  \n",
      "14                    Bone Crushing Silver Skewer   4.86  \n",
      "15                    Deadline, Voice Of Subtlety   2.89  \n",
      "16                                  Second Chance   2.52  \n",
      "17                                         Devine   1.76  \n",
      "18                                        Nirvana   4.90  \n",
      "19              Blazefury, Protector of Delusions   4.64  \n",
      "20                Despair, Favor of Due Diligence   4.60  \n",
      "21            Sun Strike, Jaws of Twisted Visions   1.48  \n",
      "22                                  Warped Fetish   3.81  \n",
      "23                                      Severance   3.40  \n",
      "24                                     Persuasion   3.19  \n",
      "25   Oathbreaker, Last Hope of the Breaking Storm   4.23  \n",
      "26                                         Demise   1.61  \n",
      "27                    Blood-Forged Skeletal Spine   3.09  \n",
      "28      Stormbringer, Dark Blade of Ending Misery   4.32  \n",
      "29            Shadow Strike, Glory of Ending Hope   3.16  \n",
      "..                                            ...    ...  \n",
      "752                                  Worldbreaker   2.60  \n",
      "753  Oathbreaker, Last Hope of the Breaking Storm   4.23  \n",
      "754                           Alpha, Oath of Zeal   4.05  \n",
      "755                      Haunted Bronzed Bludgeon   3.15  \n",
      "756                                   Ritual Mace   2.05  \n",
      "757               Despair, Favor of Due Diligence   4.60  \n",
      "758                                     Toothpick   4.03  \n",
      "759                                 Winter's Bite   3.77  \n",
      "760                         Bonecarvin Battle Axe   2.38  \n",
      "761                  Lazarus, Terror of the Earth   1.70  \n",
      "762                                    Suspension   1.44  \n",
      "763                                Malificent Bag   1.75  \n",
      "764                             Solitude's Reaver   4.07  \n",
      "765                                         Alpha   2.07  \n",
      "766             Freak's Bite, Favor of Holy Might   4.14  \n",
      "767                                  Final Critic   4.88  \n",
      "768                                  Final Critic   4.88  \n",
      "769                          Fiery Glass Crusader   4.58  \n",
      "770                                         Dawne   1.02  \n",
      "771                                     Hero Cane   4.35  \n",
      "772                  Ghastly Adamantite Protector   3.58  \n",
      "773                 Pursuit, Cudgel of Necromancy   1.02  \n",
      "774                                  Final Critic   4.19  \n",
      "775                                          Wolf   3.54  \n",
      "776                              Exiled Doomblade   1.63  \n",
      "777         Celeste, Incarnation of the Corrupted   3.46  \n",
      "778                                  Final Critic   4.19  \n",
      "779                                          Dawn   4.60  \n",
      "780                                           NaN    NaN  \n",
      "781                                           NaN    NaN  \n",
      "\n",
      "[782 rows x 7 columns]\n"
     ]
    }
   ],
   "source": [
    "print(purchase_data)"
   ]
  },
  {
   "cell_type": "code",
   "execution_count": 9,
   "metadata": {},
   "outputs": [
    {
     "name": "stdout",
     "output_type": "stream",
     "text": [
      "Lisosia93        5\n",
      "Idastidru52      4\n",
      "Iral74           4\n",
      "Chamjask73       3\n",
      "Silaera56        3\n",
      "Hada39           3\n",
      "Hiaral50         3\n",
      "Iskadarya95      3\n",
      "Asur53           3\n",
      "Chamimla85       3\n",
      "Ialallo29        3\n",
      "Tyisur83         3\n",
      "Idai61           3\n",
      "Raesty92         3\n",
      "Saistyphos30     3\n",
      "Iri67            3\n",
      "Strithenu87      3\n",
      "Pheodaisun84     3\n",
      "Lisopela58       3\n",
      "Chadolyla44      3\n",
      "Saedaiphos46     3\n",
      "Sondastsda82     3\n",
      "Yathecal82       3\n",
      "Lisim78          3\n",
      "Lassilsala30     3\n",
      "Phaena87         3\n",
      "Aina42           3\n",
      "Inguron55        3\n",
      "Aelin32          3\n",
      "Siallylis44      3\n",
      "                ..\n",
      "Sondistanya61    1\n",
      "Yadam35          1\n",
      "Layjask75        1\n",
      "Irilis75         1\n",
      "Sondassan80      1\n",
      "Ialidru40        1\n",
      "Frichilsa31      1\n",
      "Sally64          1\n",
      "Alim85           1\n",
      "Marilsanya48     1\n",
      "Pheusrical25     1\n",
      "Ririp86          1\n",
      "Aisur51          1\n",
      "Ennalmol65       1\n",
      "Quanenrian83     1\n",
      "Eusri26          1\n",
      "Ethrasyon38      1\n",
      "Assilsan72       1\n",
      "Assim27          1\n",
      "Lisadar44        1\n",
      "Irith83          1\n",
      "Tyaelly53        1\n",
      "Sidap51          1\n",
      "Qilatista90      1\n",
      "Styaduen40       1\n",
      "Aelidru27        1\n",
      "Chanosiaya39     1\n",
      "Qarirwen82       1\n",
      "Saena89          1\n",
      "Shaidanu32       1\n",
      "Name: SN, Length: 576, dtype: int64\n"
     ]
    }
   ],
   "source": [
    "print(purchase_data[\"SN\"].value_counts())"
   ]
  },
  {
   "cell_type": "code",
   "execution_count": 10,
   "metadata": {},
   "outputs": [
    {
     "name": "stdout",
     "output_type": "stream",
     "text": [
      "576\n"
     ]
    }
   ],
   "source": [
    "# Use the length of list of screen names \"SN\", for total players\n",
    "\n",
    "total_players = len(purchase_data[\"SN\"].value_counts())\n",
    "print(total_players)"
   ]
  },
  {
   "cell_type": "code",
   "execution_count": 116,
   "metadata": {},
   "outputs": [
    {
     "data": {
      "text/html": [
       "<div>\n",
       "<style scoped>\n",
       "    .dataframe tbody tr th:only-of-type {\n",
       "        vertical-align: middle;\n",
       "    }\n",
       "\n",
       "    .dataframe tbody tr th {\n",
       "        vertical-align: top;\n",
       "    }\n",
       "\n",
       "    .dataframe thead th {\n",
       "        text-align: right;\n",
       "    }\n",
       "</style>\n",
       "<table border=\"1\" class=\"dataframe\">\n",
       "  <thead>\n",
       "    <tr style=\"text-align: right;\">\n",
       "      <th></th>\n",
       "      <th>Total Players</th>\n",
       "    </tr>\n",
       "  </thead>\n",
       "  <tbody>\n",
       "    <tr>\n",
       "      <th>0</th>\n",
       "      <td>576</td>\n",
       "    </tr>\n",
       "  </tbody>\n",
       "</table>\n",
       "</div>"
      ],
      "text/plain": [
       "   Total Players\n",
       "0            576"
      ]
     },
     "execution_count": 116,
     "metadata": {},
     "output_type": "execute_result"
    }
   ],
   "source": [
    "# Create a data frame with total players named player count\n",
    "\n",
    "player_count = pd.DataFrame({\"Total Players\":[total_players]})\n",
    "player_count"
   ]
  },
  {
   "cell_type": "markdown",
   "metadata": {},
   "source": [
    "## Purchasing Analysis (Total)"
   ]
  },
  {
   "cell_type": "markdown",
   "metadata": {},
   "source": [
    "* Run basic calculations to obtain number of unique items, average price, etc.\n",
    "\n",
    "\n",
    "* Create a summary data frame to hold the results\n",
    "\n",
    "\n",
    "* Optional: give the displayed data cleaner formatting\n",
    "\n",
    "\n",
    "* Display the summary data frame\n"
   ]
  },
  {
   "cell_type": "code",
   "execution_count": 117,
   "metadata": {
    "scrolled": true
   },
   "outputs": [
    {
     "data": {
      "text/html": [
       "<div>\n",
       "<style scoped>\n",
       "    .dataframe tbody tr th:only-of-type {\n",
       "        vertical-align: middle;\n",
       "    }\n",
       "\n",
       "    .dataframe tbody tr th {\n",
       "        vertical-align: top;\n",
       "    }\n",
       "\n",
       "    .dataframe thead th {\n",
       "        text-align: right;\n",
       "    }\n",
       "</style>\n",
       "<table border=\"1\" class=\"dataframe\">\n",
       "  <thead>\n",
       "    <tr style=\"text-align: right;\">\n",
       "      <th></th>\n",
       "      <th>Number of Unique Items</th>\n",
       "      <th>Average Price</th>\n",
       "      <th>Number of Purchases</th>\n",
       "      <th>Total Revenue</th>\n",
       "    </tr>\n",
       "  </thead>\n",
       "  <tbody>\n",
       "    <tr>\n",
       "      <th>0</th>\n",
       "      <td>183</td>\n",
       "      <td>3.050987</td>\n",
       "      <td>780</td>\n",
       "      <td>2379.77</td>\n",
       "    </tr>\n",
       "  </tbody>\n",
       "</table>\n",
       "</div>"
      ],
      "text/plain": [
       "   Number of Unique Items  Average Price  Number of Purchases  Total Revenue\n",
       "0                     183       3.050987                  780        2379.77"
      ]
     },
     "execution_count": 117,
     "metadata": {},
     "output_type": "execute_result"
    }
   ],
   "source": [
    "# Calculations for unique items, average price, purchase count, and revenue\n",
    "number_of_unique_items = len((purchase_data[\"Item ID\"]).unique())\n",
    "average_price = (purchase_data[\"Price\"]).mean()\n",
    "number_of_purchases = (purchase_data[\"Purchase ID\"]).count()\n",
    "total_revenue = (purchase_data[\"Price\"]).sum()\n",
    "\n",
    "# Create data frame with obtained values #DICTIONARY WITH LISTS\n",
    "\n",
    "summary_df = pd.DataFrame({\"Number of Unique Items\":[number_of_unique_items],\n",
    "                           \"Average Price\":[average_price], \n",
    "                           \"Number of Purchases\": [number_of_purchases], \n",
    "                           \"Total Revenue\": [total_revenue]})\n",
    "\n",
    "# Format with currency style\n",
    "summary_df.style.format({'Average Price':\"${:,.2f}\",\n",
    "                         'Total Revenue': '${:,.2f}'})\n",
    "\n",
    "summary_df"
   ]
  },
  {
   "cell_type": "code",
   "execution_count": 118,
   "metadata": {},
   "outputs": [
    {
     "name": "stdout",
     "output_type": "stream",
     "text": [
      "3.050987179487176\n",
      "780\n",
      "183\n",
      "2379.77\n"
     ]
    }
   ],
   "source": [
    "print((purchase_data[\"Price\"]).mean())\n",
    "print((purchase_data[\"Purchase ID\"]).count())\n",
    "print(len((purchase_data[\"Item ID\"]).unique()))\n",
    "print((purchase_data[\"Price\"]).sum())"
   ]
  },
  {
   "cell_type": "markdown",
   "metadata": {},
   "source": [
    "## Gender Demographics"
   ]
  },
  {
   "cell_type": "markdown",
   "metadata": {},
   "source": [
    "* Percentage and Count of Male Players\n",
    "\n",
    "\n",
    "* Percentage and Count of Female Players\n",
    "\n",
    "\n",
    "* Percentage and Count of Other / Non-Disclosed\n",
    "\n",
    "\n"
   ]
  },
  {
   "cell_type": "code",
   "execution_count": 119,
   "metadata": {},
   "outputs": [
    {
     "data": {
      "text/html": [
       "<div>\n",
       "<style scoped>\n",
       "    .dataframe tbody tr th:only-of-type {\n",
       "        vertical-align: middle;\n",
       "    }\n",
       "\n",
       "    .dataframe tbody tr th {\n",
       "        vertical-align: top;\n",
       "    }\n",
       "\n",
       "    .dataframe thead th {\n",
       "        text-align: right;\n",
       "    }\n",
       "</style>\n",
       "<table border=\"1\" class=\"dataframe\">\n",
       "  <thead>\n",
       "    <tr style=\"text-align: right;\">\n",
       "      <th></th>\n",
       "      <th>Percentage of Players</th>\n",
       "      <th>Total Count</th>\n",
       "    </tr>\n",
       "    <tr>\n",
       "      <th>Gender</th>\n",
       "      <th></th>\n",
       "      <th></th>\n",
       "    </tr>\n",
       "  </thead>\n",
       "  <tbody>\n",
       "    <tr>\n",
       "      <th>Female</th>\n",
       "      <td>14.0</td>\n",
       "      <td>81</td>\n",
       "    </tr>\n",
       "    <tr>\n",
       "      <th>Male</th>\n",
       "      <td>84.0</td>\n",
       "      <td>484</td>\n",
       "    </tr>\n",
       "    <tr>\n",
       "      <th>Other / Non-Disclosed</th>\n",
       "      <td>2.0</td>\n",
       "      <td>11</td>\n",
       "    </tr>\n",
       "  </tbody>\n",
       "</table>\n",
       "</div>"
      ],
      "text/plain": [
       "                       Percentage of Players  Total Count\n",
       "Gender                                                   \n",
       "Female                                  14.0           81\n",
       "Male                                    84.0          484\n",
       "Other / Non-Disclosed                    2.0           11"
      ]
     },
     "execution_count": 119,
     "metadata": {},
     "output_type": "execute_result"
    }
   ],
   "source": [
    "# Group purchase_data by Gender\n",
    "gender_stats = purchase_data.groupby(\"Gender\")\n",
    "\n",
    "# Count the total of screen names \"SN\" by gender\n",
    "total_count_gender = gender_stats.nunique()[\"SN\"]\n",
    "\n",
    "# Total count by gender and divivde by total players \n",
    "percentage_of_players = (round(total_count_gender / total_players * 100))\n",
    "\n",
    "# Create data frame with obtained values #DICTIONARY with Lists\n",
    "gender_demographics = pd.DataFrame({\"Percentage of Players\": percentage_of_players, \"Total Count\": total_count_gender})\n",
    "\n",
    "# Format the values sorted by total count in descending order, and two decimal places for the percentage\n",
    "gender_demographics.sort_values([\"Total Count\"], ascending = False).style.format({\"Percentage of Players\":\"{:.2f}\"})\n",
    "\n",
    "gender_demographics"
   ]
  },
  {
   "cell_type": "code",
   "execution_count": 120,
   "metadata": {},
   "outputs": [
    {
     "name": "stdout",
     "output_type": "stream",
     "text": [
      "Gender\n",
      "Female                    81\n",
      "Male                     484\n",
      "Other / Non-Disclosed     11\n",
      "Name: SN, dtype: int64\n"
     ]
    }
   ],
   "source": [
    "print(gender_stats.nunique()[\"SN\"])"
   ]
  },
  {
   "cell_type": "code",
   "execution_count": 121,
   "metadata": {},
   "outputs": [
    {
     "name": "stdout",
     "output_type": "stream",
     "text": [
      "Gender\n",
      "Female                   14.0\n",
      "Male                     84.0\n",
      "Other / Non-Disclosed     2.0\n",
      "Name: SN, dtype: float64\n"
     ]
    }
   ],
   "source": [
    "print(round(total_count_gender / total_players * 100))"
   ]
  },
  {
   "cell_type": "markdown",
   "metadata": {},
   "source": [
    "\n",
    "## Purchasing Analysis (Gender)"
   ]
  },
  {
   "cell_type": "markdown",
   "metadata": {},
   "source": [
    "* Run basic calculations to obtain purchase count, avg. purchase price, avg. purchase total per person etc. by gender\n",
    "\n",
    "\n",
    "\n",
    "\n",
    "* Create a summary data frame to hold the results\n",
    "\n",
    "\n",
    "* Optional: give the displayed data cleaner formatting\n",
    "\n",
    "\n",
    "* Display the summary data frame"
   ]
  },
  {
   "cell_type": "code",
   "execution_count": 122,
   "metadata": {},
   "outputs": [
    {
     "data": {
      "text/html": [
       "<div>\n",
       "<style scoped>\n",
       "    .dataframe tbody tr th:only-of-type {\n",
       "        vertical-align: middle;\n",
       "    }\n",
       "\n",
       "    .dataframe tbody tr th {\n",
       "        vertical-align: top;\n",
       "    }\n",
       "\n",
       "    .dataframe thead th {\n",
       "        text-align: right;\n",
       "    }\n",
       "</style>\n",
       "<table border=\"1\" class=\"dataframe\">\n",
       "  <thead>\n",
       "    <tr style=\"text-align: right;\">\n",
       "      <th></th>\n",
       "      <th>Purchase Count</th>\n",
       "      <th>Average Purchase Price</th>\n",
       "      <th>Average Purchase Value</th>\n",
       "      <th>Avg Purchase Total per Person</th>\n",
       "    </tr>\n",
       "    <tr>\n",
       "      <th>Gender</th>\n",
       "      <th></th>\n",
       "      <th></th>\n",
       "      <th></th>\n",
       "      <th></th>\n",
       "    </tr>\n",
       "  </thead>\n",
       "  <tbody>\n",
       "    <tr>\n",
       "      <th>Female</th>\n",
       "      <td>113</td>\n",
       "      <td>3.203009</td>\n",
       "      <td>361.94</td>\n",
       "      <td>4.468395</td>\n",
       "    </tr>\n",
       "    <tr>\n",
       "      <th>Male</th>\n",
       "      <td>652</td>\n",
       "      <td>3.017853</td>\n",
       "      <td>1967.64</td>\n",
       "      <td>4.065372</td>\n",
       "    </tr>\n",
       "    <tr>\n",
       "      <th>Other / Non-Disclosed</th>\n",
       "      <td>15</td>\n",
       "      <td>3.346000</td>\n",
       "      <td>50.19</td>\n",
       "      <td>4.562727</td>\n",
       "    </tr>\n",
       "  </tbody>\n",
       "</table>\n",
       "</div>"
      ],
      "text/plain": [
       "                       Purchase Count  Average Purchase Price  \\\n",
       "Gender                                                          \n",
       "Female                            113                3.203009   \n",
       "Male                              652                3.017853   \n",
       "Other / Non-Disclosed              15                3.346000   \n",
       "\n",
       "                       Average Purchase Value  Avg Purchase Total per Person  \n",
       "Gender                                                                        \n",
       "Female                                 361.94                       4.468395  \n",
       "Male                                  1967.64                       4.065372  \n",
       "Other / Non-Disclosed                   50.19                       4.562727  "
      ]
     },
     "execution_count": 122,
     "metadata": {},
     "output_type": "execute_result"
    }
   ],
   "source": [
    "# Count the total purchases by gender \n",
    "purchase_count = gender_stats[\"Purchase ID\"].count()\n",
    "\n",
    "# Average purchase prices by gender\n",
    "avg_purchase_price = gender_stats[\"Price\"].mean()\n",
    "\n",
    "# Average purchase total by gender \n",
    "avg_purchase_total = gender_stats[\"Price\"].sum()\n",
    "\n",
    "# Average purchase total by gender divivded by purchase count by unique shoppers\n",
    "avg_purchase_per_person = avg_purchase_total/total_count_gender\n",
    "\n",
    "# Create data frame with obtained values #DICTIONARY with Lists\n",
    "gender_demographics = pd.DataFrame({\"Purchase Count\": purchase_count, \n",
    "                                    \"Average Purchase Price\": avg_purchase_price,\n",
    "                                    \"Average Purchase Value\":avg_purchase_total,\n",
    "                                    \"Avg Purchase Total per Person\": avg_purchase_per_person})\n",
    "\n",
    "# Format with currency style\n",
    "gender_demographics.style.format({\"Average Purchase Value\":\"${:,.2f}\",\n",
    "                                  \"Average Purchase Price\":\"${:,.2f}\",\n",
    "                                  \"Avg Purchase Total per Person\":\"${:,.2f}\"})\n",
    "\n",
    "\n",
    "gender_demographics"
   ]
  },
  {
   "cell_type": "code",
   "execution_count": 123,
   "metadata": {},
   "outputs": [
    {
     "name": "stdout",
     "output_type": "stream",
     "text": [
      "Gender\n",
      "Female                   113\n",
      "Male                     652\n",
      "Other / Non-Disclosed     15\n",
      "Name: Purchase ID, dtype: int64\n"
     ]
    }
   ],
   "source": [
    "print(gender_stats[\"Purchase ID\"].count())\n"
   ]
  },
  {
   "cell_type": "code",
   "execution_count": 124,
   "metadata": {},
   "outputs": [
    {
     "name": "stdout",
     "output_type": "stream",
     "text": [
      "Gender\n",
      "Female                   3.203009\n",
      "Male                     3.017853\n",
      "Other / Non-Disclosed    3.346000\n",
      "Name: Price, dtype: float64\n"
     ]
    }
   ],
   "source": [
    "print(gender_stats[\"Price\"].mean())"
   ]
  },
  {
   "cell_type": "code",
   "execution_count": 125,
   "metadata": {},
   "outputs": [
    {
     "name": "stdout",
     "output_type": "stream",
     "text": [
      "Gender\n",
      "Female                    361.94\n",
      "Male                     1967.64\n",
      "Other / Non-Disclosed      50.19\n",
      "Name: Price, dtype: float64\n"
     ]
    }
   ],
   "source": [
    "print(gender_stats[\"Price\"].sum())"
   ]
  },
  {
   "cell_type": "markdown",
   "metadata": {},
   "source": [
    "## Age Demographics"
   ]
  },
  {
   "cell_type": "markdown",
   "metadata": {},
   "source": [
    "* Establish bins for ages\n",
    "\n",
    "\n",
    "* Categorize the existing players using the age bins. Hint: use pd.cut()\n",
    "\n",
    "\n",
    "* Calculate the numbers and percentages by age group\n",
    "\n",
    "\n",
    "* Create a summary data frame to hold the results\n",
    "\n",
    "\n",
    "* Optional: round the percentage column to two decimal points\n",
    "\n",
    "\n",
    "* Display Age Demographics Table\n"
   ]
  },
  {
   "cell_type": "code",
   "execution_count": 126,
   "metadata": {},
   "outputs": [
    {
     "data": {
      "text/html": [
       "<div>\n",
       "<style scoped>\n",
       "    .dataframe tbody tr th:only-of-type {\n",
       "        vertical-align: middle;\n",
       "    }\n",
       "\n",
       "    .dataframe tbody tr th {\n",
       "        vertical-align: top;\n",
       "    }\n",
       "\n",
       "    .dataframe thead th {\n",
       "        text-align: right;\n",
       "    }\n",
       "</style>\n",
       "<table border=\"1\" class=\"dataframe\">\n",
       "  <thead>\n",
       "    <tr style=\"text-align: right;\">\n",
       "      <th></th>\n",
       "      <th>Percentage of Players</th>\n",
       "      <th>Total Count</th>\n",
       "    </tr>\n",
       "    <tr>\n",
       "      <th>Age Group</th>\n",
       "      <th></th>\n",
       "      <th></th>\n",
       "    </tr>\n",
       "  </thead>\n",
       "  <tbody>\n",
       "    <tr>\n",
       "      <th>&lt;10</th>\n",
       "      <td>2.951389</td>\n",
       "      <td>17</td>\n",
       "    </tr>\n",
       "    <tr>\n",
       "      <th>10-14</th>\n",
       "      <td>3.819444</td>\n",
       "      <td>22</td>\n",
       "    </tr>\n",
       "    <tr>\n",
       "      <th>15-19</th>\n",
       "      <td>18.576389</td>\n",
       "      <td>107</td>\n",
       "    </tr>\n",
       "    <tr>\n",
       "      <th>20-24</th>\n",
       "      <td>44.791667</td>\n",
       "      <td>258</td>\n",
       "    </tr>\n",
       "    <tr>\n",
       "      <th>25-29</th>\n",
       "      <td>13.368056</td>\n",
       "      <td>77</td>\n",
       "    </tr>\n",
       "    <tr>\n",
       "      <th>30-34</th>\n",
       "      <td>9.027778</td>\n",
       "      <td>52</td>\n",
       "    </tr>\n",
       "    <tr>\n",
       "      <th>35-39</th>\n",
       "      <td>5.381944</td>\n",
       "      <td>31</td>\n",
       "    </tr>\n",
       "    <tr>\n",
       "      <th>40+</th>\n",
       "      <td>2.083333</td>\n",
       "      <td>12</td>\n",
       "    </tr>\n",
       "  </tbody>\n",
       "</table>\n",
       "</div>"
      ],
      "text/plain": [
       "           Percentage of Players  Total Count\n",
       "Age Group                                    \n",
       "<10                     2.951389           17\n",
       "10-14                   3.819444           22\n",
       "15-19                  18.576389          107\n",
       "20-24                  44.791667          258\n",
       "25-29                  13.368056           77\n",
       "30-34                   9.027778           52\n",
       "35-39                   5.381944           31\n",
       "40+                     2.083333           12"
      ]
     },
     "execution_count": 126,
     "metadata": {},
     "output_type": "execute_result"
    }
   ],
   "source": [
    "# Establish bins for ages\n",
    "age_bins = [0, 9.90, 14.90, 19.90, 24.90, 29.90, 34.90, 39.90, 99999]\n",
    "group_names = [\"<10\", \"10-14\", \"15-19\", \"20-24\", \"25-29\", \"30-34\", \"35-39\", \"40+\"]\n",
    "\n",
    "# Segment and sort age values into bins established above\n",
    "purchase_data[\"Age Group\"] = pd.cut(purchase_data[\"Age\"],age_bins, labels=group_names)\n",
    "purchase_data\n",
    "\n",
    "# Create new data frame with the added \"Age Group\" and group it\n",
    "age_grouped = purchase_data.groupby(\"Age Group\")\n",
    "\n",
    "# Count total players by age category\n",
    "total_count_age = age_grouped[\"SN\"].nunique()\n",
    "\n",
    "# Calculate percentages by age category \n",
    "percentage_by_age = (total_count_age/total_players) * 100\n",
    "\n",
    "# Create data frame with obtained values\n",
    "age_demographics = pd.DataFrame({\"Percentage of Players\": percentage_by_age, \"Total Count\": total_count_age})\n",
    "\n",
    "\n",
    "\n",
    "# Format percentage with two decimal places \n",
    "age_demographics.style.format({\"Percentage of Players\":\"{:,.2f}\"})\n",
    "\n",
    "age_demographics"
   ]
  },
  {
   "cell_type": "code",
   "execution_count": 127,
   "metadata": {},
   "outputs": [
    {
     "name": "stdout",
     "output_type": "stream",
     "text": [
      "Age Group\n",
      "<10       2.951389\n",
      "10-14     3.819444\n",
      "15-19    18.576389\n",
      "20-24    44.791667\n",
      "25-29    13.368056\n",
      "30-34     9.027778\n",
      "35-39     5.381944\n",
      "40+       2.083333\n",
      "Name: SN, dtype: float64\n"
     ]
    }
   ],
   "source": [
    "print((total_count_age/total_players) * 100)\n"
   ]
  },
  {
   "cell_type": "code",
   "execution_count": 128,
   "metadata": {},
   "outputs": [
    {
     "name": "stdout",
     "output_type": "stream",
     "text": [
      "Age Group\n",
      "<10       17\n",
      "10-14     22\n",
      "15-19    107\n",
      "20-24    258\n",
      "25-29     77\n",
      "30-34     52\n",
      "35-39     31\n",
      "40+       12\n",
      "Name: SN, dtype: int64\n"
     ]
    }
   ],
   "source": [
    "print(age_grouped[\"SN\"].nunique())"
   ]
  },
  {
   "cell_type": "markdown",
   "metadata": {},
   "source": [
    "## Purchasing Analysis (Age)"
   ]
  },
  {
   "cell_type": "markdown",
   "metadata": {},
   "source": [
    "* Bin the purchase_data data frame by age\n",
    "\n",
    "\n",
    "* Run basic calculations to obtain purchase count, avg. purchase price, avg. purchase total per person etc. in the table below\n",
    "\n",
    "\n",
    "* Create a summary data frame to hold the results\n",
    "\n",
    "\n",
    "* Optional: give the displayed data cleaner formatting\n",
    "\n",
    "\n",
    "* Display the summary data frame"
   ]
  },
  {
   "cell_type": "code",
   "execution_count": 129,
   "metadata": {},
   "outputs": [
    {
     "data": {
      "text/html": [
       "<div>\n",
       "<style scoped>\n",
       "    .dataframe tbody tr th:only-of-type {\n",
       "        vertical-align: middle;\n",
       "    }\n",
       "\n",
       "    .dataframe tbody tr th {\n",
       "        vertical-align: top;\n",
       "    }\n",
       "\n",
       "    .dataframe thead th {\n",
       "        text-align: right;\n",
       "    }\n",
       "</style>\n",
       "<table border=\"1\" class=\"dataframe\">\n",
       "  <thead>\n",
       "    <tr style=\"text-align: right;\">\n",
       "      <th></th>\n",
       "      <th>Purchase Count</th>\n",
       "      <th>Average Purchase Price</th>\n",
       "      <th>Total Purchase Value</th>\n",
       "      <th>Average Purchase Total per Person</th>\n",
       "    </tr>\n",
       "    <tr>\n",
       "      <th>Age Group</th>\n",
       "      <th></th>\n",
       "      <th></th>\n",
       "      <th></th>\n",
       "      <th></th>\n",
       "    </tr>\n",
       "  </thead>\n",
       "  <tbody>\n",
       "    <tr>\n",
       "      <th>&lt;10</th>\n",
       "      <td>23</td>\n",
       "      <td>3.353478</td>\n",
       "      <td>77.13</td>\n",
       "      <td>4.537059</td>\n",
       "    </tr>\n",
       "    <tr>\n",
       "      <th>10-14</th>\n",
       "      <td>28</td>\n",
       "      <td>2.956429</td>\n",
       "      <td>82.78</td>\n",
       "      <td>3.762727</td>\n",
       "    </tr>\n",
       "    <tr>\n",
       "      <th>15-19</th>\n",
       "      <td>136</td>\n",
       "      <td>3.035956</td>\n",
       "      <td>412.89</td>\n",
       "      <td>3.858785</td>\n",
       "    </tr>\n",
       "    <tr>\n",
       "      <th>20-24</th>\n",
       "      <td>365</td>\n",
       "      <td>3.052219</td>\n",
       "      <td>1114.06</td>\n",
       "      <td>4.318062</td>\n",
       "    </tr>\n",
       "    <tr>\n",
       "      <th>25-29</th>\n",
       "      <td>101</td>\n",
       "      <td>2.900990</td>\n",
       "      <td>293.00</td>\n",
       "      <td>3.805195</td>\n",
       "    </tr>\n",
       "    <tr>\n",
       "      <th>30-34</th>\n",
       "      <td>73</td>\n",
       "      <td>2.931507</td>\n",
       "      <td>214.00</td>\n",
       "      <td>4.115385</td>\n",
       "    </tr>\n",
       "    <tr>\n",
       "      <th>35-39</th>\n",
       "      <td>41</td>\n",
       "      <td>3.601707</td>\n",
       "      <td>147.67</td>\n",
       "      <td>4.763548</td>\n",
       "    </tr>\n",
       "    <tr>\n",
       "      <th>40+</th>\n",
       "      <td>13</td>\n",
       "      <td>2.941538</td>\n",
       "      <td>38.24</td>\n",
       "      <td>3.186667</td>\n",
       "    </tr>\n",
       "  </tbody>\n",
       "</table>\n",
       "</div>"
      ],
      "text/plain": [
       "           Purchase Count  Average Purchase Price  Total Purchase Value  \\\n",
       "Age Group                                                                 \n",
       "<10                    23                3.353478                 77.13   \n",
       "10-14                  28                2.956429                 82.78   \n",
       "15-19                 136                3.035956                412.89   \n",
       "20-24                 365                3.052219               1114.06   \n",
       "25-29                 101                2.900990                293.00   \n",
       "30-34                  73                2.931507                214.00   \n",
       "35-39                  41                3.601707                147.67   \n",
       "40+                    13                2.941538                 38.24   \n",
       "\n",
       "           Average Purchase Total per Person  \n",
       "Age Group                                     \n",
       "<10                                 4.537059  \n",
       "10-14                               3.762727  \n",
       "15-19                               3.858785  \n",
       "20-24                               4.318062  \n",
       "25-29                               3.805195  \n",
       "30-34                               4.115385  \n",
       "35-39                               4.763548  \n",
       "40+                                 3.186667  "
      ]
     },
     "execution_count": 129,
     "metadata": {},
     "output_type": "execute_result"
    }
   ],
   "source": [
    "# Count purchases by age group\n",
    "purchase_count_age = age_grouped[\"Purchase ID\"].count()\n",
    "\n",
    "# Obtain average purchase price by age group \n",
    "avg_purchase_price_age = age_grouped[\"Price\"].mean()\n",
    "\n",
    "# Calculate total purchase value by age group \n",
    "total_purchase_value = age_grouped[\"Price\"].sum()\n",
    "\n",
    "# Calculate the average purchase per person in the age group \n",
    "avg_purchase_per_person_age = total_purchase_value/total_count_age\n",
    "\n",
    "# Create data frame with obtained values\n",
    "age_demographics = pd.DataFrame({\"Purchase Count\": purchase_count_age,\n",
    "                                 \"Average Purchase Price\": avg_purchase_price_age,\n",
    "                                 \"Total Purchase Value\":total_purchase_value,\n",
    "                                 \"Average Purchase Total per Person\": avg_purchase_per_person_age})\n",
    "\n",
    "\n",
    "# Format with currency style\n",
    "age_demographics.style.format({\"Average Purchase Price\":\"${:,.2f}\",\n",
    "                               \"Total Purchase Value\":\"${:,.2f}\",\n",
    "                               \"Average Purchase Total per Person\":\"${:,.2f}\"})\n",
    "\n",
    "\n",
    "age_demographics"
   ]
  },
  {
   "cell_type": "markdown",
   "metadata": {},
   "source": [
    "## Top Spenders"
   ]
  },
  {
   "cell_type": "markdown",
   "metadata": {},
   "source": [
    "* Run basic calculations to obtain the results in the table below\n",
    "\n",
    "\n",
    "* Create a summary data frame to hold the results\n",
    "\n",
    "\n",
    "* Sort the total purchase value column in descending order\n",
    "\n",
    "\n",
    "* Optional: give the displayed data cleaner formatting\n",
    "\n",
    "\n",
    "* Display a preview of the summary data frame\n",
    "\n"
   ]
  },
  {
   "cell_type": "code",
   "execution_count": 130,
   "metadata": {},
   "outputs": [
    {
     "data": {
      "text/html": [
       "<style  type=\"text/css\" >\n",
       "</style><table id=\"T_906e1acc_9260_11e9_92a9_c869cd901956\" ><thead>    <tr>        <th class=\"blank level0\" ></th>        <th class=\"col_heading level0 col0\" >Purchase Count</th>        <th class=\"col_heading level0 col1\" >Average Purchase Price</th>        <th class=\"col_heading level0 col2\" >Total Purchase Value</th>    </tr>    <tr>        <th class=\"index_name level0\" >SN</th>        <th class=\"blank\" ></th>        <th class=\"blank\" ></th>        <th class=\"blank\" ></th>    </tr></thead><tbody>\n",
       "                <tr>\n",
       "                        <th id=\"T_906e1acc_9260_11e9_92a9_c869cd901956level0_row0\" class=\"row_heading level0 row0\" >Lisosia93</th>\n",
       "                        <td id=\"T_906e1acc_9260_11e9_92a9_c869cd901956row0_col0\" class=\"data row0 col0\" >5</td>\n",
       "                        <td id=\"T_906e1acc_9260_11e9_92a9_c869cd901956row0_col1\" class=\"data row0 col1\" >$3.79</td>\n",
       "                        <td id=\"T_906e1acc_9260_11e9_92a9_c869cd901956row0_col2\" class=\"data row0 col2\" >$18.96</td>\n",
       "            </tr>\n",
       "            <tr>\n",
       "                        <th id=\"T_906e1acc_9260_11e9_92a9_c869cd901956level0_row1\" class=\"row_heading level0 row1\" >Idastidru52</th>\n",
       "                        <td id=\"T_906e1acc_9260_11e9_92a9_c869cd901956row1_col0\" class=\"data row1 col0\" >4</td>\n",
       "                        <td id=\"T_906e1acc_9260_11e9_92a9_c869cd901956row1_col1\" class=\"data row1 col1\" >$3.86</td>\n",
       "                        <td id=\"T_906e1acc_9260_11e9_92a9_c869cd901956row1_col2\" class=\"data row1 col2\" >$15.45</td>\n",
       "            </tr>\n",
       "            <tr>\n",
       "                        <th id=\"T_906e1acc_9260_11e9_92a9_c869cd901956level0_row2\" class=\"row_heading level0 row2\" >Chamjask73</th>\n",
       "                        <td id=\"T_906e1acc_9260_11e9_92a9_c869cd901956row2_col0\" class=\"data row2 col0\" >3</td>\n",
       "                        <td id=\"T_906e1acc_9260_11e9_92a9_c869cd901956row2_col1\" class=\"data row2 col1\" >$4.61</td>\n",
       "                        <td id=\"T_906e1acc_9260_11e9_92a9_c869cd901956row2_col2\" class=\"data row2 col2\" >$13.83</td>\n",
       "            </tr>\n",
       "            <tr>\n",
       "                        <th id=\"T_906e1acc_9260_11e9_92a9_c869cd901956level0_row3\" class=\"row_heading level0 row3\" >Iral74</th>\n",
       "                        <td id=\"T_906e1acc_9260_11e9_92a9_c869cd901956row3_col0\" class=\"data row3 col0\" >4</td>\n",
       "                        <td id=\"T_906e1acc_9260_11e9_92a9_c869cd901956row3_col1\" class=\"data row3 col1\" >$3.40</td>\n",
       "                        <td id=\"T_906e1acc_9260_11e9_92a9_c869cd901956row3_col2\" class=\"data row3 col2\" >$13.62</td>\n",
       "            </tr>\n",
       "            <tr>\n",
       "                        <th id=\"T_906e1acc_9260_11e9_92a9_c869cd901956level0_row4\" class=\"row_heading level0 row4\" >Iskadarya95</th>\n",
       "                        <td id=\"T_906e1acc_9260_11e9_92a9_c869cd901956row4_col0\" class=\"data row4 col0\" >3</td>\n",
       "                        <td id=\"T_906e1acc_9260_11e9_92a9_c869cd901956row4_col1\" class=\"data row4 col1\" >$4.37</td>\n",
       "                        <td id=\"T_906e1acc_9260_11e9_92a9_c869cd901956row4_col2\" class=\"data row4 col2\" >$13.10</td>\n",
       "            </tr>\n",
       "    </tbody></table>"
      ],
      "text/plain": [
       "<pandas.io.formats.style.Styler at 0x1216b6be0>"
      ]
     },
     "execution_count": 130,
     "metadata": {},
     "output_type": "execute_result"
    }
   ],
   "source": [
    "# Group purchase data by screen names\n",
    "spender_stats = purchase_data.groupby(\"SN\")\n",
    "\n",
    "# Count the total purchases by name\n",
    "purchase_count_spender = spender_stats[\"Purchase ID\"].count()\n",
    "\n",
    "# Calculate the average purchase by name \n",
    "avg_purchase_price_spender = spender_stats[\"Price\"].mean()\n",
    "\n",
    "# Calculate purchase total \n",
    "purchase_total_spender = spender_stats[\"Price\"].sum()\n",
    "\n",
    "# Create data frame with obtained values\n",
    "top_spenders = pd.DataFrame({\"Purchase Count\": purchase_count_spender,\n",
    "                             \"Average Purchase Price\": avg_purchase_price_spender,\n",
    "                             \"Total Purchase Value\":purchase_total_spender})\n",
    "\n",
    "# Sort in descending order to obtain top 5 spender names \n",
    "formatted_spenders = top_spenders.sort_values([\"Total Purchase Value\"], ascending=False).head()\n",
    "\n",
    "# Format with currency style\n",
    "formatted_spenders.style.format({\"Average Purchase Total\":\"${:,.2f}\",\n",
    "                                 \"Average Purchase Price\":\"${:,.2f}\", \n",
    "                                 \"Total Purchase Value\":\"${:,.2f}\"})\n",
    "\n"
   ]
  },
  {
   "cell_type": "code",
   "execution_count": 131,
   "metadata": {},
   "outputs": [
    {
     "name": "stdout",
     "output_type": "stream",
     "text": [
      "SN\n",
      "Adairialis76       1\n",
      "Adastirin33        1\n",
      "Aeda94             1\n",
      "Aela59             1\n",
      "Aelaria33          1\n",
      "Aelastirin39       2\n",
      "Aelidru27          1\n",
      "Aelin32            3\n",
      "Aelly27            2\n",
      "Aellynun67         1\n",
      "Aellyria80         1\n",
      "Aelollo59          2\n",
      "Aenarap34          1\n",
      "Aeral43            1\n",
      "Aeral68            1\n",
      "Aeral97            1\n",
      "Aeralria27         1\n",
      "Aeralstical35      1\n",
      "Aeri84             1\n",
      "Aerillorin70       1\n",
      "Aerithllora36      2\n",
      "Aerithnucal56      1\n",
      "Aerithnuphos61     1\n",
      "Aerithriaphos45    1\n",
      "Aerithriaphos46    1\n",
      "Aesri53            1\n",
      "Aesty53            2\n",
      "Aestysu37          2\n",
      "Aesur96            1\n",
      "Aesurstilis64      1\n",
      "                  ..\n",
      "Undosia27          1\n",
      "Undosian34         2\n",
      "Undotesta33        1\n",
      "Wailin72           1\n",
      "Yadacal26          2\n",
      "Yadaisuir65        1\n",
      "Yadam35            1\n",
      "Yadanu52           1\n",
      "Yadaphos40         2\n",
      "Yalae81            2\n",
      "Yalaeria91         1\n",
      "Yaliru88           1\n",
      "Yalo85             1\n",
      "Yalostiphos68      1\n",
      "Yana46             1\n",
      "Yarithllodeu72     1\n",
      "Yarithrgue83       1\n",
      "Yarithrin84        1\n",
      "Yarithsurgue62     1\n",
      "Yarolwen77         1\n",
      "Yasrisu92          1\n",
      "Yastyriaphos75     1\n",
      "Yasur35            1\n",
      "Yasur85            1\n",
      "Yathecal72         1\n",
      "Yathecal82         3\n",
      "Yathedeu43         2\n",
      "Yoishirrala98      1\n",
      "Zhisrisu83         2\n",
      "Zontibe81          3\n",
      "Name: Purchase ID, Length: 576, dtype: int64\n"
     ]
    }
   ],
   "source": [
    "print(spender_stats[\"Purchase ID\"].count())\n"
   ]
  },
  {
   "cell_type": "code",
   "execution_count": 132,
   "metadata": {},
   "outputs": [
    {
     "name": "stdout",
     "output_type": "stream",
     "text": [
      "SN\n",
      "Adairialis76       2.280000\n",
      "Adastirin33        4.480000\n",
      "Aeda94             4.910000\n",
      "Aela59             4.320000\n",
      "Aelaria33          1.790000\n",
      "Aelastirin39       3.645000\n",
      "Aelidru27          1.090000\n",
      "Aelin32            2.993333\n",
      "Aelly27            3.395000\n",
      "Aellynun67         3.740000\n",
      "Aellyria80         3.080000\n",
      "Aelollo59          2.815000\n",
      "Aenarap34          2.960000\n",
      "Aeral43            4.400000\n",
      "Aeral68            4.000000\n",
      "Aeral97            4.800000\n",
      "Aeralria27         4.090000\n",
      "Aeralstical35      2.960000\n",
      "Aeri84             1.610000\n",
      "Aerillorin70       3.330000\n",
      "Aerithllora36      4.320000\n",
      "Aerithnucal56      4.400000\n",
      "Aerithnuphos61     4.910000\n",
      "Aerithriaphos45    1.560000\n",
      "Aerithriaphos46    2.180000\n",
      "Aesri53            1.760000\n",
      "Aesty53            1.955000\n",
      "Aestysu37          2.690000\n",
      "Aesur96            2.210000\n",
      "Aesurstilis64      1.030000\n",
      "                     ...   \n",
      "Undosia27          3.770000\n",
      "Undosian34         4.150000\n",
      "Undotesta33        4.740000\n",
      "Wailin72           2.730000\n",
      "Yadacal26          3.270000\n",
      "Yadaisuir65        4.090000\n",
      "Yadam35            2.480000\n",
      "Yadanu52           2.380000\n",
      "Yadaphos40         2.675000\n",
      "Yalae81            3.345000\n",
      "Yalaeria91         1.060000\n",
      "Yaliru88           3.030000\n",
      "Yalo85             3.650000\n",
      "Yalostiphos68      4.400000\n",
      "Yana46             3.550000\n",
      "Yarithllodeu72     3.750000\n",
      "Yarithrgue83       3.450000\n",
      "Yarithrin84        4.140000\n",
      "Yarithsurgue62     4.940000\n",
      "Yarolwen77         4.430000\n",
      "Yasrisu92          3.440000\n",
      "Yastyriaphos75     4.750000\n",
      "Yasur35            4.480000\n",
      "Yasur85            1.100000\n",
      "Yathecal72         3.460000\n",
      "Yathecal82         2.073333\n",
      "Yathedeu43         3.010000\n",
      "Yoishirrala98      4.580000\n",
      "Zhisrisu83         3.945000\n",
      "Zontibe81          2.676667\n",
      "Name: Price, Length: 576, dtype: float64\n"
     ]
    }
   ],
   "source": [
    "print(spender_stats[\"Price\"].mean())"
   ]
  },
  {
   "cell_type": "code",
   "execution_count": 133,
   "metadata": {},
   "outputs": [
    {
     "name": "stdout",
     "output_type": "stream",
     "text": [
      "SN\n",
      "Adairialis76       2.28\n",
      "Adastirin33        4.48\n",
      "Aeda94             4.91\n",
      "Aela59             4.32\n",
      "Aelaria33          1.79\n",
      "Aelastirin39       7.29\n",
      "Aelidru27          1.09\n",
      "Aelin32            8.98\n",
      "Aelly27            6.79\n",
      "Aellynun67         3.74\n",
      "Aellyria80         3.08\n",
      "Aelollo59          5.63\n",
      "Aenarap34          2.96\n",
      "Aeral43            4.40\n",
      "Aeral68            4.00\n",
      "Aeral97            4.80\n",
      "Aeralria27         4.09\n",
      "Aeralstical35      2.96\n",
      "Aeri84             1.61\n",
      "Aerillorin70       3.33\n",
      "Aerithllora36      8.64\n",
      "Aerithnucal56      4.40\n",
      "Aerithnuphos61     4.91\n",
      "Aerithriaphos45    1.56\n",
      "Aerithriaphos46    2.18\n",
      "Aesri53            1.76\n",
      "Aesty53            3.91\n",
      "Aestysu37          5.38\n",
      "Aesur96            2.21\n",
      "Aesurstilis64      1.03\n",
      "                   ... \n",
      "Undosia27          3.77\n",
      "Undosian34         8.30\n",
      "Undotesta33        4.74\n",
      "Wailin72           2.73\n",
      "Yadacal26          6.54\n",
      "Yadaisuir65        4.09\n",
      "Yadam35            2.48\n",
      "Yadanu52           2.38\n",
      "Yadaphos40         5.35\n",
      "Yalae81            6.69\n",
      "Yalaeria91         1.06\n",
      "Yaliru88           3.03\n",
      "Yalo85             3.65\n",
      "Yalostiphos68      4.40\n",
      "Yana46             3.55\n",
      "Yarithllodeu72     3.75\n",
      "Yarithrgue83       3.45\n",
      "Yarithrin84        4.14\n",
      "Yarithsurgue62     4.94\n",
      "Yarolwen77         4.43\n",
      "Yasrisu92          3.44\n",
      "Yastyriaphos75     4.75\n",
      "Yasur35            4.48\n",
      "Yasur85            1.10\n",
      "Yathecal72         3.46\n",
      "Yathecal82         6.22\n",
      "Yathedeu43         6.02\n",
      "Yoishirrala98      4.58\n",
      "Zhisrisu83         7.89\n",
      "Zontibe81          8.03\n",
      "Name: Price, Length: 576, dtype: float64\n"
     ]
    }
   ],
   "source": [
    "print(spender_stats[\"Price\"].sum())"
   ]
  },
  {
   "cell_type": "code",
   "execution_count": 134,
   "metadata": {},
   "outputs": [
    {
     "name": "stdout",
     "output_type": "stream",
     "text": [
      "             Purchase Count  Average Purchase Price  Total Purchase Value\n",
      "SN                                                                       \n",
      "Lisosia93                 5                3.792000                 18.96\n",
      "Idastidru52               4                3.862500                 15.45\n",
      "Chamjask73                3                4.610000                 13.83\n",
      "Iral74                    4                3.405000                 13.62\n",
      "Iskadarya95               3                4.366667                 13.10\n"
     ]
    }
   ],
   "source": [
    "print(top_spenders.sort_values([\"Total Purchase Value\"], ascending=False).head()\n",
    ")"
   ]
  },
  {
   "cell_type": "code",
   "execution_count": null,
   "metadata": {},
   "outputs": [],
   "source": []
  },
  {
   "cell_type": "markdown",
   "metadata": {},
   "source": [
    "## Most Popular Items"
   ]
  },
  {
   "cell_type": "markdown",
   "metadata": {},
   "source": [
    "* Retrieve the Item ID, Item Name, and Item Price columns\n",
    "\n",
    "\n",
    "* Group by Item ID and Item Name. Perform calculations to obtain purchase count, item price, and total purchase value\n",
    "\n",
    "\n",
    "* Create a summary data frame to hold the results\n",
    "\n",
    "\n",
    "* Sort the purchase count column in descending order\n",
    "\n",
    "\n",
    "* Optional: give the displayed data cleaner formatting\n",
    "\n",
    "\n",
    "* Display a preview of the summary data frame\n",
    "\n"
   ]
  },
  {
   "cell_type": "code",
   "execution_count": 135,
   "metadata": {},
   "outputs": [
    {
     "data": {
      "text/html": [
       "<style  type=\"text/css\" >\n",
       "</style><table id=\"T_907ae144_9260_11e9_92a9_c869cd901956\" ><thead>    <tr>        <th class=\"blank\" ></th>        <th class=\"blank level0\" ></th>        <th class=\"col_heading level0 col0\" >Purchase Count</th>        <th class=\"col_heading level0 col1\" >Item Price</th>        <th class=\"col_heading level0 col2\" >Total Purchase Value</th>    </tr>    <tr>        <th class=\"index_name level0\" >Item ID</th>        <th class=\"index_name level1\" >Item Name</th>        <th class=\"blank\" ></th>        <th class=\"blank\" ></th>        <th class=\"blank\" ></th>    </tr></thead><tbody>\n",
       "                <tr>\n",
       "                        <th id=\"T_907ae144_9260_11e9_92a9_c869cd901956level0_row0\" class=\"row_heading level0 row0\" >178</th>\n",
       "                        <th id=\"T_907ae144_9260_11e9_92a9_c869cd901956level1_row0\" class=\"row_heading level1 row0\" >Oathbreaker, Last Hope of the Breaking Storm</th>\n",
       "                        <td id=\"T_907ae144_9260_11e9_92a9_c869cd901956row0_col0\" class=\"data row0 col0\" >12</td>\n",
       "                        <td id=\"T_907ae144_9260_11e9_92a9_c869cd901956row0_col1\" class=\"data row0 col1\" >$4.23</td>\n",
       "                        <td id=\"T_907ae144_9260_11e9_92a9_c869cd901956row0_col2\" class=\"data row0 col2\" >$50.76</td>\n",
       "            </tr>\n",
       "            <tr>\n",
       "                        <th id=\"T_907ae144_9260_11e9_92a9_c869cd901956level0_row1\" class=\"row_heading level0 row1\" >145</th>\n",
       "                        <th id=\"T_907ae144_9260_11e9_92a9_c869cd901956level1_row1\" class=\"row_heading level1 row1\" >Fiery Glass Crusader</th>\n",
       "                        <td id=\"T_907ae144_9260_11e9_92a9_c869cd901956row1_col0\" class=\"data row1 col0\" >9</td>\n",
       "                        <td id=\"T_907ae144_9260_11e9_92a9_c869cd901956row1_col1\" class=\"data row1 col1\" >$4.58</td>\n",
       "                        <td id=\"T_907ae144_9260_11e9_92a9_c869cd901956row1_col2\" class=\"data row1 col2\" >$41.22</td>\n",
       "            </tr>\n",
       "            <tr>\n",
       "                        <th id=\"T_907ae144_9260_11e9_92a9_c869cd901956level0_row2\" class=\"row_heading level0 row2\" >108</th>\n",
       "                        <th id=\"T_907ae144_9260_11e9_92a9_c869cd901956level1_row2\" class=\"row_heading level1 row2\" >Extraction, Quickblade Of Trembling Hands</th>\n",
       "                        <td id=\"T_907ae144_9260_11e9_92a9_c869cd901956row2_col0\" class=\"data row2 col0\" >9</td>\n",
       "                        <td id=\"T_907ae144_9260_11e9_92a9_c869cd901956row2_col1\" class=\"data row2 col1\" >$3.53</td>\n",
       "                        <td id=\"T_907ae144_9260_11e9_92a9_c869cd901956row2_col2\" class=\"data row2 col2\" >$31.77</td>\n",
       "            </tr>\n",
       "            <tr>\n",
       "                        <th id=\"T_907ae144_9260_11e9_92a9_c869cd901956level0_row3\" class=\"row_heading level0 row3\" >82</th>\n",
       "                        <th id=\"T_907ae144_9260_11e9_92a9_c869cd901956level1_row3\" class=\"row_heading level1 row3\" >Nirvana</th>\n",
       "                        <td id=\"T_907ae144_9260_11e9_92a9_c869cd901956row3_col0\" class=\"data row3 col0\" >9</td>\n",
       "                        <td id=\"T_907ae144_9260_11e9_92a9_c869cd901956row3_col1\" class=\"data row3 col1\" >$4.90</td>\n",
       "                        <td id=\"T_907ae144_9260_11e9_92a9_c869cd901956row3_col2\" class=\"data row3 col2\" >$44.10</td>\n",
       "            </tr>\n",
       "            <tr>\n",
       "                        <th id=\"T_907ae144_9260_11e9_92a9_c869cd901956level0_row4\" class=\"row_heading level0 row4\" >19</th>\n",
       "                        <th id=\"T_907ae144_9260_11e9_92a9_c869cd901956level1_row4\" class=\"row_heading level1 row4\" >Pursuit, Cudgel of Necromancy</th>\n",
       "                        <td id=\"T_907ae144_9260_11e9_92a9_c869cd901956row4_col0\" class=\"data row4 col0\" >8</td>\n",
       "                        <td id=\"T_907ae144_9260_11e9_92a9_c869cd901956row4_col1\" class=\"data row4 col1\" >$1.02</td>\n",
       "                        <td id=\"T_907ae144_9260_11e9_92a9_c869cd901956row4_col2\" class=\"data row4 col2\" >$8.16</td>\n",
       "            </tr>\n",
       "    </tbody></table>"
      ],
      "text/plain": [
       "<pandas.io.formats.style.Styler at 0x122ab8748>"
      ]
     },
     "execution_count": 135,
     "metadata": {},
     "output_type": "execute_result"
    }
   ],
   "source": [
    "# Create new data frame with items related information \n",
    "items = purchase_data[[\"Item ID\", \"Item Name\", \"Price\"]]\n",
    "\n",
    "# Group the item data by item id and item name \n",
    "item_stats = items.groupby([\"Item ID\",\"Item Name\"])\n",
    "\n",
    "# Count the number of times an item has been purchased \n",
    "purchase_count_item = item_stats[\"Price\"].count()\n",
    "\n",
    "# Calcualte the purchase value per item \n",
    "purchase_value = (item_stats[\"Price\"].sum()) \n",
    "\n",
    "# Find individual item price\n",
    "item_price = purchase_value/purchase_count_item\n",
    "\n",
    "# Create data frame with obtained values\n",
    "most_popular_items = pd.DataFrame({\"Purchase Count\": purchase_count_item, \n",
    "                                   \"Item Price\": item_price,\n",
    "                                   \"Total Purchase Value\":purchase_value})\n",
    "\n",
    "# Sort in descending order to obtain top spender names and provide top 5 item names\n",
    "popular_formatted = most_popular_items.sort_values([\"Purchase Count\"], ascending=False).head()\n",
    "\n",
    "# Format with currency style\n",
    "popular_formatted.style.format({\"Item Price\":\"${:,.2f}\",\n",
    "                                \"Total Purchase Value\":\"${:,.2f}\"})\n",
    "\n"
   ]
  },
  {
   "cell_type": "markdown",
   "metadata": {},
   "source": [
    "## Most Profitable Items"
   ]
  },
  {
   "cell_type": "markdown",
   "metadata": {},
   "source": [
    "* Sort the above table by total purchase value in descending order\n",
    "\n",
    "\n",
    "* Optional: give the displayed data cleaner formatting\n",
    "\n",
    "\n",
    "* Display a preview of the data frame\n",
    "\n"
   ]
  },
  {
   "cell_type": "code",
   "execution_count": 136,
   "metadata": {
    "scrolled": true
   },
   "outputs": [
    {
     "data": {
      "text/html": [
       "<style  type=\"text/css\" >\n",
       "</style><table id=\"T_907dfc26_9260_11e9_92a9_c869cd901956\" ><thead>    <tr>        <th class=\"blank\" ></th>        <th class=\"blank level0\" ></th>        <th class=\"col_heading level0 col0\" >Purchase Count</th>        <th class=\"col_heading level0 col1\" >Item Price</th>        <th class=\"col_heading level0 col2\" >Total Purchase Value</th>    </tr>    <tr>        <th class=\"index_name level0\" >Item ID</th>        <th class=\"index_name level1\" >Item Name</th>        <th class=\"blank\" ></th>        <th class=\"blank\" ></th>        <th class=\"blank\" ></th>    </tr></thead><tbody>\n",
       "                <tr>\n",
       "                        <th id=\"T_907dfc26_9260_11e9_92a9_c869cd901956level0_row0\" class=\"row_heading level0 row0\" >178</th>\n",
       "                        <th id=\"T_907dfc26_9260_11e9_92a9_c869cd901956level1_row0\" class=\"row_heading level1 row0\" >Oathbreaker, Last Hope of the Breaking Storm</th>\n",
       "                        <td id=\"T_907dfc26_9260_11e9_92a9_c869cd901956row0_col0\" class=\"data row0 col0\" >12</td>\n",
       "                        <td id=\"T_907dfc26_9260_11e9_92a9_c869cd901956row0_col1\" class=\"data row0 col1\" >$4.23</td>\n",
       "                        <td id=\"T_907dfc26_9260_11e9_92a9_c869cd901956row0_col2\" class=\"data row0 col2\" >$50.76</td>\n",
       "            </tr>\n",
       "            <tr>\n",
       "                        <th id=\"T_907dfc26_9260_11e9_92a9_c869cd901956level0_row1\" class=\"row_heading level0 row1\" >82</th>\n",
       "                        <th id=\"T_907dfc26_9260_11e9_92a9_c869cd901956level1_row1\" class=\"row_heading level1 row1\" >Nirvana</th>\n",
       "                        <td id=\"T_907dfc26_9260_11e9_92a9_c869cd901956row1_col0\" class=\"data row1 col0\" >9</td>\n",
       "                        <td id=\"T_907dfc26_9260_11e9_92a9_c869cd901956row1_col1\" class=\"data row1 col1\" >$4.90</td>\n",
       "                        <td id=\"T_907dfc26_9260_11e9_92a9_c869cd901956row1_col2\" class=\"data row1 col2\" >$44.10</td>\n",
       "            </tr>\n",
       "            <tr>\n",
       "                        <th id=\"T_907dfc26_9260_11e9_92a9_c869cd901956level0_row2\" class=\"row_heading level0 row2\" >145</th>\n",
       "                        <th id=\"T_907dfc26_9260_11e9_92a9_c869cd901956level1_row2\" class=\"row_heading level1 row2\" >Fiery Glass Crusader</th>\n",
       "                        <td id=\"T_907dfc26_9260_11e9_92a9_c869cd901956row2_col0\" class=\"data row2 col0\" >9</td>\n",
       "                        <td id=\"T_907dfc26_9260_11e9_92a9_c869cd901956row2_col1\" class=\"data row2 col1\" >$4.58</td>\n",
       "                        <td id=\"T_907dfc26_9260_11e9_92a9_c869cd901956row2_col2\" class=\"data row2 col2\" >$41.22</td>\n",
       "            </tr>\n",
       "            <tr>\n",
       "                        <th id=\"T_907dfc26_9260_11e9_92a9_c869cd901956level0_row3\" class=\"row_heading level0 row3\" >92</th>\n",
       "                        <th id=\"T_907dfc26_9260_11e9_92a9_c869cd901956level1_row3\" class=\"row_heading level1 row3\" >Final Critic</th>\n",
       "                        <td id=\"T_907dfc26_9260_11e9_92a9_c869cd901956row3_col0\" class=\"data row3 col0\" >8</td>\n",
       "                        <td id=\"T_907dfc26_9260_11e9_92a9_c869cd901956row3_col1\" class=\"data row3 col1\" >$4.88</td>\n",
       "                        <td id=\"T_907dfc26_9260_11e9_92a9_c869cd901956row3_col2\" class=\"data row3 col2\" >$39.04</td>\n",
       "            </tr>\n",
       "            <tr>\n",
       "                        <th id=\"T_907dfc26_9260_11e9_92a9_c869cd901956level0_row4\" class=\"row_heading level0 row4\" >103</th>\n",
       "                        <th id=\"T_907dfc26_9260_11e9_92a9_c869cd901956level1_row4\" class=\"row_heading level1 row4\" >Singed Scalpel</th>\n",
       "                        <td id=\"T_907dfc26_9260_11e9_92a9_c869cd901956row4_col0\" class=\"data row4 col0\" >8</td>\n",
       "                        <td id=\"T_907dfc26_9260_11e9_92a9_c869cd901956row4_col1\" class=\"data row4 col1\" >$4.35</td>\n",
       "                        <td id=\"T_907dfc26_9260_11e9_92a9_c869cd901956row4_col2\" class=\"data row4 col2\" >$34.80</td>\n",
       "            </tr>\n",
       "    </tbody></table>"
      ],
      "text/plain": [
       "<pandas.io.formats.style.Styler at 0x122b2f6a0>"
      ]
     },
     "execution_count": 136,
     "metadata": {},
     "output_type": "execute_result"
    }
   ],
   "source": [
    "# Take the most_popular items data frame and change the sorting to find highest total purchase value\n",
    "popular_formatted = most_popular_items.sort_values([\"Total Purchase Value\"],\n",
    "                                                   ascending=False).head()\n",
    "# Format with currency style\n",
    "popular_formatted.style.format({\"Item Price\":\"${:,.2f}\",\n",
    "                                \"Total Purchase Value\":\"${:,.2f}\"})"
   ]
  },
  {
   "cell_type": "code",
   "execution_count": null,
   "metadata": {},
   "outputs": [],
   "source": []
  }
 ],
 "metadata": {
  "anaconda-cloud": {},
  "kernel_info": {
   "name": "python3"
  },
  "kernelspec": {
   "display_name": "Python 3",
   "language": "python",
   "name": "python3"
  },
  "language_info": {
   "codemirror_mode": {
    "name": "ipython",
    "version": 3
   },
   "file_extension": ".py",
   "mimetype": "text/x-python",
   "name": "python",
   "nbconvert_exporter": "python",
   "pygments_lexer": "ipython3",
   "version": "3.7.3"
  },
  "nteract": {
   "version": "0.2.0"
  }
 },
 "nbformat": 4,
 "nbformat_minor": 2
}
